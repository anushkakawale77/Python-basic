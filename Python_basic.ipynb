{
  "nbformat": 4,
  "nbformat_minor": 0,
  "metadata": {
    "colab": {
      "provenance": []
    },
    "kernelspec": {
      "name": "python3",
      "display_name": "Python 3"
    },
    "language_info": {
      "name": "python"
    }
  },
  "cells": [
    {
      "cell_type": "markdown",
      "source": [
        "1. Write a Python program to print \"Hello, World!\""
      ],
      "metadata": {
        "id": "lRWACpaogaXG"
      }
    },
    {
      "cell_type": "code",
      "source": [
        "print(\"Hello, World!\")\n"
      ],
      "metadata": {
        "colab": {
          "base_uri": "https://localhost:8080/"
        },
        "id": "HK2mCxDJgm0M",
        "outputId": "20caeb36-ed7e-468d-8bf0-e223c722fa7c"
      },
      "execution_count": 1,
      "outputs": [
        {
          "output_type": "stream",
          "name": "stdout",
          "text": [
            "Hello, World!\n"
          ]
        }
      ]
    },
    {
      "cell_type": "markdown",
      "source": [
        "2. Write a Python program that displays your name and age\n"
      ],
      "metadata": {
        "id": "kZ0PG7eYg6Qq"
      }
    },
    {
      "cell_type": "code",
      "source": [
        "# Define your name and age\n",
        "name = \"John Doe\"\n",
        "age = 25\n",
        "\n",
        "# Display the information\n",
        "print(\"Name:\", name)\n",
        "print(\"Age:\", age)\n"
      ],
      "metadata": {
        "colab": {
          "base_uri": "https://localhost:8080/"
        },
        "id": "AvOwh5SChUg8",
        "outputId": "6215fa7e-5160-4786-b0ee-b77c0ea604b7"
      },
      "execution_count": 2,
      "outputs": [
        {
          "output_type": "stream",
          "name": "stdout",
          "text": [
            "Name: John Doe\n",
            "Age: 25\n"
          ]
        }
      ]
    },
    {
      "cell_type": "markdown",
      "source": [
        "3. Write code to print all the pre-defined keywords in Python using the keyword library"
      ],
      "metadata": {
        "id": "-2QbjtlWhh5w"
      }
    },
    {
      "cell_type": "code",
      "source": [
        "import keyword\n",
        "\n",
        "# Print all predefined keywords in Python\n",
        "print(\"Python Keywords:\", keyword.kwlist)\n"
      ],
      "metadata": {
        "colab": {
          "base_uri": "https://localhost:8080/"
        },
        "id": "fc-ghxR5hude",
        "outputId": "cbe186dc-2a95-417a-b6ee-ce3611b06f35"
      },
      "execution_count": 3,
      "outputs": [
        {
          "output_type": "stream",
          "name": "stdout",
          "text": [
            "Python Keywords: ['False', 'None', 'True', 'and', 'as', 'assert', 'async', 'await', 'break', 'class', 'continue', 'def', 'del', 'elif', 'else', 'except', 'finally', 'for', 'from', 'global', 'if', 'import', 'in', 'is', 'lambda', 'nonlocal', 'not', 'or', 'pass', 'raise', 'return', 'try', 'while', 'with', 'yield']\n"
          ]
        }
      ]
    },
    {
      "cell_type": "markdown",
      "source": [
        "4. Write a program that checks if a given word is a Python keyword.\n"
      ],
      "metadata": {
        "id": "as_W2DoCh7Cc"
      }
    },
    {
      "cell_type": "code",
      "source": [
        "import keyword\n",
        "\n",
        "# Input word from the user\n",
        "word = input(\"Enter a word: \")\n",
        "\n",
        "# Check if the word is a Python keyword\n",
        "if keyword.iskeyword(word):\n",
        "    print(f\"'{word}' is a Python keyword.\")\n",
        "else:\n",
        "    print(f\"'{word}' is not a Python keyword.\")\n"
      ],
      "metadata": {
        "id": "EyDk8G43iU2n"
      },
      "execution_count": null,
      "outputs": []
    },
    {
      "cell_type": "markdown",
      "source": [
        "5. Create a list and tuple in Python, and demonstrate how attempting to change an element works differently\n",
        "for each"
      ],
      "metadata": {
        "id": "hw-AhR3sjLGG"
      }
    },
    {
      "cell_type": "code",
      "source": [
        "# Creating a list and a tuple\n",
        "my_list = [1, 2, 3, 4, 5]\n",
        "my_tuple = (1, 2, 3, 4, 5)\n",
        "\n",
        "# Attempting to change an element in the list\n",
        "try:\n",
        "    my_list[0] = 10  # Changing the first element of the list\n",
        "    print(\"List after modification:\", my_list)\n",
        "except TypeError as e:\n",
        "    print(\"Error changing list element:\", e)\n",
        "\n",
        "# Attempting to change an element in the tuple\n",
        "try:\n",
        "    my_tuple[0] = 10  # Trying to change the first element of the tuple\n",
        "    print(\"Tuple after modification:\", my_tuple)\n",
        "except TypeError as e:\n",
        "    print(\"Error changing tuple element:\", e)\n"
      ],
      "metadata": {
        "id": "tv4qJM3fj3aG"
      },
      "execution_count": null,
      "outputs": []
    },
    {
      "cell_type": "markdown",
      "source": [
        "6.Write a function to demonstrate the behavior of mutable and immutable arguments"
      ],
      "metadata": {
        "id": "tkjH0lWGkjPL"
      }
    },
    {
      "cell_type": "code",
      "source": [
        "def demonstrate_mutable_immutable(mutable_arg, immutable_arg):\n",
        "    print(\"Before modification inside the function:\")\n",
        "    print(\"Mutable argument:\", mutable_arg)\n",
        "    print(\"Immutable argument:\", immutable_arg)\n",
        "\n",
        "    # Modifying the mutable argument (a list)\n",
        "    mutable_arg.append(100)\n",
        "\n",
        "    # Trying to modify the immutable argument (an integer)\n",
        "    immutable_arg += 10\n",
        "\n",
        "    print(\"\\nAfter modification inside the function:\")\n",
        "    print(\"Mutable argument:\", mutable_arg)\n",
        "    print(\"Immutable argument:\", immutable_arg)\n",
        "\n",
        "\n",
        "# Test the function\n",
        "my_list = [1, 2, 3]\n",
        "my_int = 5\n",
        "\n",
        "demonstrate_mutable_immutable(my_list, my_int)\n",
        "\n",
        "print(\"\\nAfter function call:\")\n",
        "print(\"Mutable argument (outside function):\", my_list)  # List is modified\n",
        "print(\"Immutable argument (outside function):\", my_int)  # Integer remains unchanged\n"
      ],
      "metadata": {
        "id": "U35ze7Ookqym"
      },
      "execution_count": null,
      "outputs": []
    },
    {
      "cell_type": "markdown",
      "source": [
        "7.Write a program that performs basic arithmetic operations on two user-input numbers"
      ],
      "metadata": {
        "id": "F66hbGFllDZ7"
      }
    },
    {
      "cell_type": "code",
      "source": [
        "# Function to perform basic arithmetic operations\n",
        "def arithmetic_operations(num1, num2):\n",
        "    print(f\"Addition of {num1} and {num2}: {num1 + num2}\")\n",
        "    print(f\"Subtraction of {num1} and {num2}: {num1 - num2}\")\n",
        "    print(f\"Multiplication of {num1} and {num2}: {num1 * num2}\")\n",
        "\n",
        "    # Handling division by zero\n",
        "    if num2 != 0:\n",
        "        print(f\"Division of {num1} by {num2}: {num1 / num2}\")\n",
        "    else:\n",
        "        print(\"Cannot divide by zero.\")\n",
        "\n",
        "# Taking user input\n",
        "try:\n",
        "    number1 = float(input(\"Enter the first number: \"))\n",
        "    number2 = float(input(\"Enter the second number: \"))\n",
        "\n",
        "    # Perform arithmetic operations\n",
        "    arithmetic_operations(number1, number2)\n",
        "\n",
        "except ValueError:\n",
        "    print(\"Invalid input. Please enter valid numbers.\")\n"
      ],
      "metadata": {
        "id": "5WC19kSJlKc5"
      },
      "execution_count": null,
      "outputs": []
    },
    {
      "cell_type": "markdown",
      "source": [
        "8. Write a program to demonstrate the use of logical operators."
      ],
      "metadata": {
        "id": "U6r-giRJlVrL"
      }
    },
    {
      "cell_type": "code",
      "source": [
        "# Function to demonstrate logical operators\n",
        "def logical_operators_demo(a, b):\n",
        "    print(f\"a = {a}, b = {b}\")\n",
        "\n",
        "    # Using 'and' logical operator\n",
        "    if a > 0 and b > 0:\n",
        "        print(f\"Both {a} and {b} are positive.\")\n",
        "    else:\n",
        "        print(f\"At least one of {a} or {b} is not positive.\")\n",
        "\n",
        "    # Using 'or' logical operator\n",
        "    if a > 0 or b > 0:\n",
        "        print(f\"At least one of {a} or {b} is positive.\")\n",
        "    else:\n",
        "        print(f\"Neither {a} nor {b} is positive.\")\n",
        "\n",
        "    # Using 'not' logical operator\n",
        "    if not (a == b):\n",
        "        print(f\"{a} is not equal to {b}.\")\n",
        "    else:\n",
        "        print(f\"{a} is equal to {b}.\")\n",
        "\n",
        "# Take user input for two numbers\n",
        "try:\n",
        "    num1 = int(input(\"Enter the first number: \"))\n",
        "    num2 = int(input(\"Enter the second number: \"))\n",
        "\n",
        "    # Demonstrate logical operators\n",
        "    logical_operators_demo(num1, num2)\n",
        "\n",
        "except ValueError:\n",
        "    print(\"Invalid input. Please enter valid integers.\")\n"
      ],
      "metadata": {
        "id": "1FNL2TehlcNA"
      },
      "execution_count": null,
      "outputs": []
    },
    {
      "cell_type": "markdown",
      "source": [
        "9. Write a Python program to convert user input from string to integer, float, and boolean types."
      ],
      "metadata": {
        "id": "0TDgyOzKln1V"
      }
    },
    {
      "cell_type": "code",
      "source": [
        "# Function to demonstrate type conversion\n",
        "def type_conversion(input_string):\n",
        "    # Convert input string to integer\n",
        "    try:\n",
        "        int_value = int(input_string)\n",
        "        print(f\"Converted to integer: {int_value}\")\n",
        "    except ValueError:\n",
        "        print(\"Invalid integer conversion.\")\n",
        "\n",
        "    # Convert input string to float\n",
        "    try:\n",
        "        float_value = float(input_string)\n",
        "        print(f\"Converted to float: {float_value}\")\n",
        "    except ValueError:\n",
        "        print(\"Invalid float conversion.\")\n",
        "\n",
        "    # Convert input string to boolean\n",
        "    # A non-empty string is considered True, an empty string is considered False\n",
        "    if input_string.lower() == \"false\" or input_string == \"\":\n",
        "        bool_value = False\n",
        "    else:\n",
        "        bool_value = True\n",
        "    print(f\"Converted to boolean: {bool_value}\")\n",
        "\n",
        "# Taking user input\n",
        "user_input = input(\"Enter a value: \")\n",
        "\n",
        "# Demonstrating type conversions\n",
        "type_conversion(user_input)\n"
      ],
      "metadata": {
        "id": "sWWeWzfVltvG"
      },
      "execution_count": null,
      "outputs": []
    },
    {
      "cell_type": "markdown",
      "source": [
        "10.  Write code to demonstrate type casting with list elements."
      ],
      "metadata": {
        "id": "r6_Sxsntl3Ys"
      }
    },
    {
      "cell_type": "code",
      "source": [
        "# Function to demonstrate type casting with list elements\n",
        "def type_casting_demo():\n",
        "    # Original list of strings\n",
        "    string_list = [\"1\", \"2\", \"3\", \"4.5\", \"6.7\", \"True\"]\n",
        "\n",
        "    print(\"Original list (strings):\", string_list)\n",
        "\n",
        "    # Converting each element to an integer (will raise ValueError for non-integer strings)\n",
        "    try:\n",
        "        int_list = [int(x) for x in string_list if x.replace('.', '', 1).isdigit() or (x.lower() == 'true' or x.lower() == 'false')]\n",
        "        print(\"Converted to integers:\", int_list)\n",
        "    except ValueError as e:\n",
        "        print(\"Error converting to integers:\", e)\n",
        "\n",
        "    # Converting each element to a float\n",
        "    float_list = [float(x) if '.' in x else float(int(x)) for x in string_list]\n",
        "    print(\"Converted to floats:\", float_list)\n",
        "\n",
        "    # Converting each element to a boolean (non-empty string is True, empty string is False)\n",
        "    bool_list = [x.lower() == 'true' or bool(x) for x in string_list]\n",
        "    print(\"Converted to booleans:\", bool_list)\n",
        "\n",
        "# Call the function\n",
        "type_casting_demo()\n"
      ],
      "metadata": {
        "id": "KYeGE6OGl8El"
      },
      "execution_count": null,
      "outputs": []
    },
    {
      "cell_type": "markdown",
      "source": [
        "11. Write a program that checks if a number is positive, negative, or zero"
      ],
      "metadata": {
        "id": "4AuxizP4mGMY"
      }
    },
    {
      "cell_type": "code",
      "source": [
        "# Function to check if the number is positive, negative, or zero\n",
        "def check_number(num):\n",
        "    if num > 0:\n",
        "        print(f\"{num} is a positive number.\")\n",
        "    elif num < 0:\n",
        "        print(f\"{num} is a negative number.\")\n",
        "    else:\n",
        "        print(f\"{num} is zero.\")\n",
        "\n",
        "# Taking user input\n",
        "try:\n",
        "    number = float(input(\"Enter a number: \"))\n",
        "    check_number(number)\n",
        "except ValueError:\n",
        "    print(\"Invalid input. Please enter a valid number.\")\n"
      ],
      "metadata": {
        "id": "XV-ztRt0mK1v"
      },
      "execution_count": null,
      "outputs": []
    },
    {
      "cell_type": "markdown",
      "source": [
        "12.  Write a for loop to print numbers from 1 to 10."
      ],
      "metadata": {
        "id": "JMwQKdd6mRZD"
      }
    },
    {
      "cell_type": "code",
      "source": [
        "# For loop to print numbers from 1 to 10\n",
        "for i in range(1, 11):\n",
        "    print(i)\n"
      ],
      "metadata": {
        "id": "edqUa9QdmZ0x"
      },
      "execution_count": null,
      "outputs": []
    },
    {
      "cell_type": "markdown",
      "source": [
        "13.  Write a Python program to find the sum of all even numbers between 1 and 50."
      ],
      "metadata": {
        "id": "crtZq221mhtE"
      }
    },
    {
      "cell_type": "code",
      "source": [
        "# Initialize the sum variable\n",
        "sum_even = 0\n",
        "\n",
        "# Loop through numbers from 1 to 50\n",
        "for num in range(1, 51):\n",
        "    if num % 2 == 0:  # Check if the number is even\n",
        "        sum_even += num\n",
        "\n",
        "# Output the sum\n",
        "print(\"Sum of all even numbers between 1 and 50:\", sum_even)\n"
      ],
      "metadata": {
        "id": "KsDz5_H2mrW3"
      },
      "execution_count": null,
      "outputs": []
    },
    {
      "cell_type": "markdown",
      "source": [
        "14. Write a program to reverse a string using a while loop."
      ],
      "metadata": {
        "id": "nSe0Thq4mtJ8"
      }
    },
    {
      "cell_type": "code",
      "source": [
        "# Function to reverse a string using a while loop\n",
        "def reverse_string(input_string):\n",
        "    reversed_string = \"\"\n",
        "    index = len(input_string) - 1  # Start from the last index\n",
        "\n",
        "    # Use a while loop to reverse the string\n",
        "    while index >= 0:\n",
        "        reversed_string += input_string[index]\n",
        "        index -= 1  # Move to the previous character\n",
        "\n",
        "    return reversed_string\n",
        "\n",
        "# Taking user input\n",
        "user_input = input(\"Enter a string: \")\n",
        "\n",
        "# Call the function and print the reversed string\n",
        "reversed_str = reverse_string(user_input)\n",
        "print(\"Reversed string:\", reversed_str)\n"
      ],
      "metadata": {
        "id": "6J3EBKtcmst0"
      },
      "execution_count": null,
      "outputs": []
    },
    {
      "cell_type": "markdown",
      "source": [
        "15.Write a Python program to calculate the factorial of a number provided by the user using a while loop"
      ],
      "metadata": {
        "id": "sDnFUOykm_sW"
      }
    },
    {
      "cell_type": "code",
      "source": [
        "# Function to calculate factorial using a while loop\n",
        "def calculate_factorial(n):\n",
        "    factorial = 1\n",
        "    while n > 0:\n",
        "        factorial *= n\n",
        "        n -= 1\n",
        "    return factorial\n",
        "\n",
        "# Taking user input\n",
        "try:\n",
        "    num = int(input(\"Enter a number: \"))\n",
        "\n",
        "    # Ensure the number is non-negative\n",
        "    if num < 0:\n",
        "        print(\"Factorial is not defined for negative numbers.\")\n",
        "    else:\n",
        "        # Calculate and print the factorial\n",
        "        result = calculate_factorial(num)\n",
        "        print(f\"The factorial of {num} is {result}.\")\n",
        "except ValueError:\n",
        "    print(\"Invalid input! Please enter a valid integer.\")\n"
      ],
      "metadata": {
        "id": "vz7zZLI3nEe9"
      },
      "execution_count": null,
      "outputs": []
    }
  ]
}